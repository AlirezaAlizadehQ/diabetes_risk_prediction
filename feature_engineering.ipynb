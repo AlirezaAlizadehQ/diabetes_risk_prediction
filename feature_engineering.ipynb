{
 "cells": [
  {
   "cell_type": "markdown",
   "metadata": {},
   "source": [
    "Since our dataset is imbalanced we have to overcome this issue to obtain accurate results.\n",
    "There are 3 solutions to make our classes balanced:\n",
    "- oversample the dataset\n",
    "- undersample the dataset\n",
    "- combine minority classes to one class\n",
    "\n",
    "In this project we combine minority classes to one class.  Therefore we end of having 2 classes [0, 1] \n",
    "- 0: not having diabetes \n",
    "- 1: having diabetes\n",
    "\n",
    "The reason we do that is that the machine learning classifier tends to be more biased towards the majority class, causing bad classification of the minority class.\n",
    "\n"
   ]
  },
  {
   "cell_type": "markdown",
   "metadata": {},
   "source": [
    "## import libraries"
   ]
  },
  {
   "cell_type": "code",
   "execution_count": 1,
   "metadata": {},
   "outputs": [],
   "source": [
    "import pandas as pd \n",
    "from sklearn.preprocessing import MinMaxScaler\n",
    "from imblearn.under_sampling import RandomUnderSampler\n",
    "from imblearn.over_sampling import RandomOverSampler\n",
    "from sklearn.model_selection import train_test_split"
   ]
  },
  {
   "cell_type": "markdown",
   "metadata": {},
   "source": [
    "## load dataset"
   ]
  },
  {
   "cell_type": "code",
   "execution_count": 2,
   "metadata": {},
   "outputs": [],
   "source": [
    "path_to_dataset = 'data/diabetes_data.csv'\n",
    "# load csv file to dataframe\n",
    "dataframe = pd.read_csv(path_to_dataset)"
   ]
  },
  {
   "cell_type": "code",
   "execution_count": 3,
   "metadata": {},
   "outputs": [],
   "source": [
    "# make a copy of dataset\n",
    "df = dataframe.copy()"
   ]
  },
  {
   "cell_type": "code",
   "execution_count": 4,
   "metadata": {},
   "outputs": [],
   "source": [
    "# change the column name of target variable\n",
    "df.rename(columns = {'Diabetes_012': 'Diabetes'}, inplace=True)"
   ]
  },
  {
   "cell_type": "markdown",
   "metadata": {},
   "source": [
    "## feature transformation"
   ]
  },
  {
   "cell_type": "code",
   "execution_count": 5,
   "metadata": {},
   "outputs": [],
   "source": [
    "# convert float64 to type int   \n",
    "df['Diabetes'] = df['Diabetes'].astype('int')\n",
    "df['HighBP'] = df['HighBP'].astype('int')\n",
    "df['HighChol'] = df['HighChol'].astype('int')\n",
    "df['CholCheck'] = df['CholCheck'].astype('int')\n",
    "df['BMI'] = df['BMI'].astype('int')\n",
    "df['Smoker'] = df['Smoker'].astype('int')\n",
    "df['Stroke'] = df['Stroke'].astype('int')\n",
    "df['HeartDiseaseorAttack'] = df['HeartDiseaseorAttack'].astype('int')\n",
    "df['PhysActivity'] = df['PhysActivity'].astype('int')\n",
    "df['Fruits'] = df['Fruits'].astype('int')\n",
    "df['Veggies'] = df['Veggies'].astype('int')\n",
    "df['HvyAlcoholConsump'] = df['HvyAlcoholConsump'].astype('int')\n",
    "df['AnyHealthcare'] = df['AnyHealthcare'].astype('int')\n",
    "df['NoDocbcCost'] = df['NoDocbcCost'].astype('int')\n",
    "df['GenHlth'] = df['GenHlth'].astype('int')\n",
    "df['MentHlth'] = df['MentHlth'].astype('int')\n",
    "df['PhysHlth'] = df['PhysHlth'].astype('int')\n",
    "df['DiffWalk'] = df['DiffWalk'].astype('int')\n",
    "df['Sex'] = df['Sex'].astype('int')\n",
    "df['Age'] = df['Age'].astype('int')\n",
    "df['Education'] = df['Education'].astype('int')\n",
    "df['Income'] = df['Income'].astype('int')"
   ]
  },
  {
   "cell_type": "code",
   "execution_count": 6,
   "metadata": {},
   "outputs": [
    {
     "data": {
      "text/html": [
       "<div>\n",
       "<style scoped>\n",
       "    .dataframe tbody tr th:only-of-type {\n",
       "        vertical-align: middle;\n",
       "    }\n",
       "\n",
       "    .dataframe tbody tr th {\n",
       "        vertical-align: top;\n",
       "    }\n",
       "\n",
       "    .dataframe thead th {\n",
       "        text-align: right;\n",
       "    }\n",
       "</style>\n",
       "<table border=\"1\" class=\"dataframe\">\n",
       "  <thead>\n",
       "    <tr style=\"text-align: right;\">\n",
       "      <th></th>\n",
       "      <th>Diabetes</th>\n",
       "      <th>HighBP</th>\n",
       "      <th>HighChol</th>\n",
       "      <th>CholCheck</th>\n",
       "      <th>BMI</th>\n",
       "      <th>Smoker</th>\n",
       "      <th>Stroke</th>\n",
       "      <th>HeartDiseaseorAttack</th>\n",
       "      <th>PhysActivity</th>\n",
       "      <th>Fruits</th>\n",
       "      <th>...</th>\n",
       "      <th>AnyHealthcare</th>\n",
       "      <th>NoDocbcCost</th>\n",
       "      <th>GenHlth</th>\n",
       "      <th>MentHlth</th>\n",
       "      <th>PhysHlth</th>\n",
       "      <th>DiffWalk</th>\n",
       "      <th>Sex</th>\n",
       "      <th>Age</th>\n",
       "      <th>Education</th>\n",
       "      <th>Income</th>\n",
       "    </tr>\n",
       "  </thead>\n",
       "  <tbody>\n",
       "    <tr>\n",
       "      <th>0</th>\n",
       "      <td>0</td>\n",
       "      <td>1</td>\n",
       "      <td>1</td>\n",
       "      <td>1</td>\n",
       "      <td>40</td>\n",
       "      <td>1</td>\n",
       "      <td>0</td>\n",
       "      <td>0</td>\n",
       "      <td>0</td>\n",
       "      <td>0</td>\n",
       "      <td>...</td>\n",
       "      <td>1</td>\n",
       "      <td>0</td>\n",
       "      <td>5</td>\n",
       "      <td>18</td>\n",
       "      <td>15</td>\n",
       "      <td>1</td>\n",
       "      <td>0</td>\n",
       "      <td>9</td>\n",
       "      <td>4</td>\n",
       "      <td>3</td>\n",
       "    </tr>\n",
       "    <tr>\n",
       "      <th>1</th>\n",
       "      <td>0</td>\n",
       "      <td>0</td>\n",
       "      <td>0</td>\n",
       "      <td>0</td>\n",
       "      <td>25</td>\n",
       "      <td>1</td>\n",
       "      <td>0</td>\n",
       "      <td>0</td>\n",
       "      <td>1</td>\n",
       "      <td>0</td>\n",
       "      <td>...</td>\n",
       "      <td>0</td>\n",
       "      <td>1</td>\n",
       "      <td>3</td>\n",
       "      <td>0</td>\n",
       "      <td>0</td>\n",
       "      <td>0</td>\n",
       "      <td>0</td>\n",
       "      <td>7</td>\n",
       "      <td>6</td>\n",
       "      <td>1</td>\n",
       "    </tr>\n",
       "    <tr>\n",
       "      <th>2</th>\n",
       "      <td>0</td>\n",
       "      <td>1</td>\n",
       "      <td>1</td>\n",
       "      <td>1</td>\n",
       "      <td>28</td>\n",
       "      <td>0</td>\n",
       "      <td>0</td>\n",
       "      <td>0</td>\n",
       "      <td>0</td>\n",
       "      <td>1</td>\n",
       "      <td>...</td>\n",
       "      <td>1</td>\n",
       "      <td>1</td>\n",
       "      <td>5</td>\n",
       "      <td>30</td>\n",
       "      <td>30</td>\n",
       "      <td>1</td>\n",
       "      <td>0</td>\n",
       "      <td>9</td>\n",
       "      <td>4</td>\n",
       "      <td>8</td>\n",
       "    </tr>\n",
       "    <tr>\n",
       "      <th>3</th>\n",
       "      <td>0</td>\n",
       "      <td>1</td>\n",
       "      <td>0</td>\n",
       "      <td>1</td>\n",
       "      <td>27</td>\n",
       "      <td>0</td>\n",
       "      <td>0</td>\n",
       "      <td>0</td>\n",
       "      <td>1</td>\n",
       "      <td>1</td>\n",
       "      <td>...</td>\n",
       "      <td>1</td>\n",
       "      <td>0</td>\n",
       "      <td>2</td>\n",
       "      <td>0</td>\n",
       "      <td>0</td>\n",
       "      <td>0</td>\n",
       "      <td>0</td>\n",
       "      <td>11</td>\n",
       "      <td>3</td>\n",
       "      <td>6</td>\n",
       "    </tr>\n",
       "    <tr>\n",
       "      <th>4</th>\n",
       "      <td>0</td>\n",
       "      <td>1</td>\n",
       "      <td>1</td>\n",
       "      <td>1</td>\n",
       "      <td>24</td>\n",
       "      <td>0</td>\n",
       "      <td>0</td>\n",
       "      <td>0</td>\n",
       "      <td>1</td>\n",
       "      <td>1</td>\n",
       "      <td>...</td>\n",
       "      <td>1</td>\n",
       "      <td>0</td>\n",
       "      <td>2</td>\n",
       "      <td>3</td>\n",
       "      <td>0</td>\n",
       "      <td>0</td>\n",
       "      <td>0</td>\n",
       "      <td>11</td>\n",
       "      <td>5</td>\n",
       "      <td>4</td>\n",
       "    </tr>\n",
       "  </tbody>\n",
       "</table>\n",
       "<p>5 rows × 22 columns</p>\n",
       "</div>"
      ],
      "text/plain": [
       "   Diabetes  HighBP  HighChol  CholCheck  BMI  Smoker  Stroke  \\\n",
       "0         0       1         1          1   40       1       0   \n",
       "1         0       0         0          0   25       1       0   \n",
       "2         0       1         1          1   28       0       0   \n",
       "3         0       1         0          1   27       0       0   \n",
       "4         0       1         1          1   24       0       0   \n",
       "\n",
       "   HeartDiseaseorAttack  PhysActivity  Fruits  ...  AnyHealthcare  \\\n",
       "0                     0             0       0  ...              1   \n",
       "1                     0             1       0  ...              0   \n",
       "2                     0             0       1  ...              1   \n",
       "3                     0             1       1  ...              1   \n",
       "4                     0             1       1  ...              1   \n",
       "\n",
       "   NoDocbcCost  GenHlth  MentHlth  PhysHlth  DiffWalk  Sex  Age  Education  \\\n",
       "0            0        5        18        15         1    0    9          4   \n",
       "1            1        3         0         0         0    0    7          6   \n",
       "2            1        5        30        30         1    0    9          4   \n",
       "3            0        2         0         0         0    0   11          3   \n",
       "4            0        2         3         0         0    0   11          5   \n",
       "\n",
       "   Income  \n",
       "0       3  \n",
       "1       1  \n",
       "2       8  \n",
       "3       6  \n",
       "4       4  \n",
       "\n",
       "[5 rows x 22 columns]"
      ]
     },
     "execution_count": 6,
     "metadata": {},
     "output_type": "execute_result"
    }
   ],
   "source": [
    "df.head()"
   ]
  },
  {
   "cell_type": "markdown",
   "metadata": {},
   "source": [
    "## dealing with imbalanced dataset"
   ]
  },
  {
   "cell_type": "code",
   "execution_count": 7,
   "metadata": {},
   "outputs": [
    {
     "data": {
      "text/plain": [
       "0    213703\n",
       "2     35346\n",
       "1      4631\n",
       "Name: Diabetes, dtype: int64"
      ]
     },
     "execution_count": 7,
     "metadata": {},
     "output_type": "execute_result"
    }
   ],
   "source": [
    "# distribution of target variable\n",
    "df['Diabetes'].value_counts()"
   ]
  },
  {
   "cell_type": "markdown",
   "metadata": {},
   "source": [
    "- 0: No diabetes\n",
    "- 1: pre-diabetes\n",
    "- 2: diabetes\n",
    "\n",
    "From the above results, it seems that with the current dataset the machine learning models tend to fail to predict the true labels because of the class imbalance and tend to bias towards the majority class. to overcome this issue: \n",
    "\n",
    "\n",
    "combining classes 1, 2 returns patients with diabetes. Therefore a binary classification will say if a patient has diabetes or not. "
   ]
  },
  {
   "cell_type": "code",
   "execution_count": 8,
   "metadata": {},
   "outputs": [],
   "source": [
    "# replace class 2 with class 1\n",
    "df.Diabetes.replace([2.0], [1.0], inplace=True)"
   ]
  },
  {
   "cell_type": "code",
   "execution_count": 9,
   "metadata": {},
   "outputs": [
    {
     "data": {
      "text/plain": [
       "0    213703\n",
       "1     39977\n",
       "Name: Diabetes, dtype: int64"
      ]
     },
     "execution_count": 9,
     "metadata": {},
     "output_type": "execute_result"
    }
   ],
   "source": [
    "df['Diabetes'].value_counts()"
   ]
  },
  {
   "cell_type": "code",
   "execution_count": 10,
   "metadata": {},
   "outputs": [],
   "source": [
    "# seperate features from labels\n",
    "X = df.drop(['Diabetes'], axis=1)\n",
    "y = df['Diabetes']"
   ]
  },
  {
   "cell_type": "code",
   "execution_count": 11,
   "metadata": {},
   "outputs": [
    {
     "data": {
      "text/plain": [
       "<AxesSubplot: ylabel='Diabetes'>"
      ]
     },
     "execution_count": 11,
     "metadata": {},
     "output_type": "execute_result"
    },
    {
     "data": {
      "image/png": "[encoded data removed]",
      "text/plain": [
       "<Figure size 640x480 with 1 Axes>"
      ]
     },
     "metadata": {},
     "output_type": "display_data"
    }
   ],
   "source": [
    "y.value_counts().plot.pie(autopct='%.2f')"
   ]
  },
  {
   "cell_type": "markdown",
   "metadata": {},
   "source": [
    "## solution to imbalanced dataset "
   ]
  },
  {
   "cell_type": "markdown",
   "metadata": {},
   "source": [
    "After combining minority classes, still the ratio of target variable: 'diabetes / no diabetes' is equal to 0.157. \n",
    "\n",
    "A dataset that consists of one class is in the majority and if the class has above 90% weightage and another class has less than 10% weightage then the dataset is imbalanced.\n",
    "\n",
    "That is why we have to make the classes balance. \n",
    "This could be done by either undersampling the majority class, or oversampling the minority class. \n",
    "\n",
    "Another way is class weighting: This involves assigning different weights to each class, so that the model pays more attention to the minority class and less to the majority class. \n",
    "\n",
    "One more solution is model selection: This involves choosing a model that is more robust to imbalanced data, such as decision trees, random forests, gradient boosting, etc. These models can handle imbalanced data better than linear models or neural networks. \n",
    "\n",
    "Another way is evaluation metrics: This involves using metrics that are more suitable for imbalanced data, such as precision, recall, F1-score, ROC curve, etc. rather than accuracy, which can be misleading for imbalanced data."
   ]
  },
  {
   "cell_type": "markdown",
   "metadata": {},
   "source": [
    "### random undersampling"
   ]
  },
  {
   "cell_type": "markdown",
   "metadata": {},
   "source": [
    "reduce the majority class to the sames size as the minority class"
   ]
  },
  {
   "cell_type": "code",
   "execution_count": 12,
   "metadata": {},
   "outputs": [],
   "source": [
    "rus = RandomUnderSampler(sampling_strategy='not minority')\n",
    "\n",
    "X_rus, y_rus = rus.fit_resample(X, y)"
   ]
  },
  {
   "cell_type": "code",
   "execution_count": 13,
   "metadata": {},
   "outputs": [
    {
     "name": "stdout",
     "output_type": "stream",
     "text": [
      "0    39977\n",
      "1    39977\n",
      "Name: Diabetes, dtype: int64 \n",
      "\n"
     ]
    },
    {
     "data": {
      "text/plain": [
       "<AxesSubplot: ylabel='Diabetes'>"
      ]
     },
     "execution_count": 13,
     "metadata": {},
     "output_type": "execute_result"
    },
    {
     "data": {
      "image/png": "[encoded data removed]",
      "text/plain": [
       "<Figure size 640x480 with 1 Axes>"
      ]
     },
     "metadata": {},
     "output_type": "display_data"
    }
   ],
   "source": [
    "print(y_rus.value_counts(), '\\n')\n",
    "y_rus.value_counts().plot.pie(autopct='%.2f')"
   ]
  },
  {
   "cell_type": "markdown",
   "metadata": {},
   "source": [
    "### random oversampling"
   ]
  },
  {
   "cell_type": "code",
   "execution_count": 14,
   "metadata": {},
   "outputs": [],
   "source": [
    "ros = RandomOverSampler(sampling_strategy='not majority')\n",
    "X_ros, y_ros = ros.fit_resample(X, y)"
   ]
  },
  {
   "cell_type": "code",
   "execution_count": 15,
   "metadata": {},
   "outputs": [
    {
     "name": "stdout",
     "output_type": "stream",
     "text": [
      "0    213703\n",
      "1    213703\n",
      "Name: Diabetes, dtype: int64 \n",
      "\n"
     ]
    },
    {
     "data": {
      "text/plain": [
       "<AxesSubplot: ylabel='Diabetes'>"
      ]
     },
     "execution_count": 15,
     "metadata": {},
     "output_type": "execute_result"
    },
    {
     "data": {
      "image/png": "[encoded data removed]",
      "text/plain": [
       "<Figure size 640x480 with 1 Axes>"
      ]
     },
     "metadata": {},
     "output_type": "display_data"
    }
   ],
   "source": [
    "print(y_ros.value_counts(), '\\n')\n",
    "y_ros.value_counts().plot.pie(autopct='%.2f')"
   ]
  },
  {
   "cell_type": "markdown",
   "metadata": {},
   "source": [
    "Should we drop those features that have zero correlation with target variable? \n",
    "Not necessarily. Zero correlation means that there is no linear relationship between the features and the target, but there may be other types of relationships, such as nonlinear, interactive, or conditional. These relationships may not be captured by the simple correlation coefficient, but they may still be useful for predicting the target."
   ]
  },
  {
   "cell_type": "markdown",
   "metadata": {},
   "source": [
    "Next is preprocessing the predictors, to normalize the continous variables and one hot vector the categorical variables before feeding the data to the machine learing algorithm. "
   ]
  },
  {
   "cell_type": "markdown",
   "metadata": {},
   "source": [
    "### normalize continous features\n"
   ]
  },
  {
   "cell_type": "code",
   "execution_count": 16,
   "metadata": {},
   "outputs": [],
   "source": [
    "# split data into tran test set\n",
    "X_rus_train, X_rus_test, y_rus_train, y_rus_test = train_test_split(X_rus, y_rus, test_size=0.3)\n",
    "X_ros_train, X_ros_test, y_ros_train, y_ros_test = train_test_split(X_ros, y_ros, test_size=0.3)\n",
    "X_org_train, X_org_test, y_org_train, y_org_test = train_test_split(X, y, test_size=0.3)"
   ]
  },
  {
   "cell_type": "code",
   "execution_count": 17,
   "metadata": {},
   "outputs": [],
   "source": [
    "continuous_features = ['BMI']"
   ]
  },
  {
   "cell_type": "code",
   "execution_count": 18,
   "metadata": {},
   "outputs": [],
   "source": [
    "# subtracts the minimum value in the feature and \n",
    "# then divides by the range for continous features\n",
    "scaler_1 = MinMaxScaler()\n",
    "\n",
    "# normalize the random undersampling data between (0, 1)\n",
    "X_rus_train[continuous_features] = scaler_1.fit_transform(X_rus_train[continuous_features])\n",
    "X_rus_test[continuous_features] = scaler_1.transform(X_rus_test[continuous_features])"
   ]
  },
  {
   "cell_type": "code",
   "execution_count": 19,
   "metadata": {},
   "outputs": [],
   "source": [
    "scaler_2 = MinMaxScaler()\n",
    "\n",
    "# normalize the random oversampling data between (0, 1)\n",
    "X_ros_train[continuous_features] = scaler_2.fit_transform(X_ros_train[continuous_features])\n",
    "X_ros_test[continuous_features] = scaler_2.transform(X_ros_test[continuous_features])"
   ]
  },
  {
   "cell_type": "code",
   "execution_count": 20,
   "metadata": {},
   "outputs": [],
   "source": [
    "scaler_3 = MinMaxScaler()\n",
    "\n",
    "# normalize the original data between (0,1)\n",
    "X_org_train[continuous_features] = scaler_3.fit_transform(X_org_train[continuous_features])\n",
    "X_org_test[continuous_features] = scaler_3.transform(X_org_test[continuous_features])"
   ]
  },
  {
   "cell_type": "markdown",
   "metadata": {},
   "source": [
    "### encode categorical features"
   ]
  },
  {
   "cell_type": "code",
   "execution_count": 21,
   "metadata": {},
   "outputs": [],
   "source": [
    "categorical_features = ['GenHlth', 'MentHlth', 'PhysHlth', 'Age', 'Education', 'Income']"
   ]
  },
  {
   "cell_type": "code",
   "execution_count": 22,
   "metadata": {},
   "outputs": [],
   "source": [
    "# one hot encode the categorical features\n",
    "X_rus_train = pd.get_dummies(X_rus_train, columns=categorical_features, \n",
    "                             prefix=categorical_features, drop_first=True)\n",
    "\n",
    "X_rus_test = pd.get_dummies(X_rus_test, columns=categorical_features, \n",
    "                             prefix=categorical_features, drop_first=True)"
   ]
  },
  {
   "cell_type": "code",
   "execution_count": 23,
   "metadata": {},
   "outputs": [],
   "source": [
    "# one hot encode the categorical features\n",
    "X_ros_train = pd.get_dummies(X_ros_train, columns=categorical_features, \n",
    "                             prefix=categorical_features, drop_first=True)\n",
    "\n",
    "X_ros_test = pd.get_dummies(X_ros_test, columns=categorical_features, \n",
    "                             prefix=categorical_features, drop_first=True)"
   ]
  },
  {
   "cell_type": "code",
   "execution_count": 24,
   "metadata": {},
   "outputs": [],
   "source": [
    "# one hot encode the categorical features\n",
    "X_org_train = pd.get_dummies(X_org_train, columns=categorical_features, \n",
    "                             prefix=categorical_features, drop_first=True)\n",
    "\n",
    "X_org_test = pd.get_dummies(X_org_test, columns=categorical_features, \n",
    "                             prefix=categorical_features, drop_first=True)"
   ]
  },
  {
   "cell_type": "markdown",
   "metadata": {},
   "source": [
    "## save to csv"
   ]
  },
  {
   "cell_type": "code",
   "execution_count": 26,
   "metadata": {},
   "outputs": [],
   "source": [
    "# save random undersampling data\n",
    "X_rus_train.to_csv('data/rus/X_rus_train.csv', index = False)\n",
    "X_rus_test.to_csv('data/rus/X_rus_test.csv', index = False)\n",
    "\n",
    "y_rus_train.to_csv('data/rus/y_rus_train.csv', index = False)\n",
    "y_rus_test.to_csv('data/rus/y_rus_test.csv', index = False)"
   ]
  },
  {
   "cell_type": "code",
   "execution_count": 27,
   "metadata": {},
   "outputs": [],
   "source": [
    "# save random oversampling data\n",
    "X_ros_train.to_csv('data/ros/X_ros_train.csv', index = False)\n",
    "X_ros_test.to_csv('data/ros/X_ros_test.csv', index = False)\n",
    "\n",
    "y_ros_train.to_csv('data/ros/y_ros_train.csv', index = False)\n",
    "y_ros_test.to_csv('data/ros/y_ros_test.csv', index = False)"
   ]
  },
  {
   "cell_type": "code",
   "execution_count": 28,
   "metadata": {},
   "outputs": [],
   "source": [
    "# save preprocessed original data\n",
    "X_org_train.to_csv('data/org/X_org_train.csv', index = False)\n",
    "X_org_test.to_csv('data/org/X_org_test.csv', index = False)\n",
    "\n",
    "y_org_train.to_csv('data/org/y_org_train.csv', index = False)\n",
    "y_org_test.to_csv('data/org/y_org_test.csv', index = False)"
   ]
  }
 ],
 "metadata": {
  "kernelspec": {
   "display_name": "env_1",
   "language": "python",
   "name": "python3"
  },
  "language_info": {
   "codemirror_mode": {
    "name": "ipython",
    "version": 3
   },
   "file_extension": ".py",
   "mimetype": "text/x-python",
   "name": "python",
   "nbconvert_exporter": "python",
   "pygments_lexer": "ipython3",
   "version": "3.9.16"
  },
  "orig_nbformat": 4
 },
 "nbformat": 4,
 "nbformat_minor": 2
}
